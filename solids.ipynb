{
 "cells": [
  {
   "cell_type": "code",
   "execution_count": 15,
   "id": "edbb7588-14a9-4f2b-ad6f-9f99bda4bb94",
   "metadata": {},
   "outputs": [
    {
     "name": "stdout",
     "output_type": "stream",
     "text": [
      "Defaulting to user installation because normal site-packages is not writeable\n"
     ]
    },
    {
     "name": "stderr",
     "output_type": "stream",
     "text": [
      "ERROR: Could not find a version that satisfies the requirement cv2 (from versions: none)\n",
      "ERROR: No matching distribution found for cv2\n"
     ]
    }
   ],
   "source": [
    "!pip install cv2"
   ]
  },
  {
   "cell_type": "code",
   "execution_count": 1,
   "id": "1f42dc60-720c-4b0f-bd22-985b3739c3e6",
   "metadata": {},
   "outputs": [],
   "source": [
    "# Models based on https://github.com/nicknochnack/GANBasics/blob/main/FashionGAN-Tutorial.ipynb\n",
    "\n",
    "# Bringing in tensorflow datasets\n",
    "import tensorflow_datasets as tfds\n",
    "\n",
    "# Bringing in matplotlib for viz stuff\n",
    "from matplotlib import pyplot as plt\n",
    "\n",
    "import tensorflow as tf\n",
    "import numpy as np\n",
    "#import cv2\n",
    "\n",
    "# Bring in the sequential api for the generator and discriminator\n",
    "from tensorflow.keras.models import Sequential\n",
    "# Bring in the layers for the neural network\n",
    "from tensorflow.keras.layers import Conv2D, Dense, Flatten, Reshape, LeakyReLU, Dropout, UpSampling2D"
   ]
  },
  {
   "cell_type": "code",
   "execution_count": 2,
   "id": "ac3599bd-a3b5-47bd-9c6b-62e0cc1087ff",
   "metadata": {},
   "outputs": [
    {
     "name": "stdout",
     "output_type": "stream",
     "text": [
      "[PhysicalDevice(name='/physical_device:GPU:0', device_type='GPU')]\n"
     ]
    }
   ],
   "source": [
    "gpus = tf.config.experimental.list_physical_devices('GPU')\n",
    "print(gpus)\n",
    "for gpu in gpus: \n",
    "    tf.config.experimental.set_memory_growth(gpu, True)"
   ]
  },
  {
   "cell_type": "code",
   "execution_count": 3,
   "id": "66c3fe25-a4c8-4d99-a516-1ca0c008b760",
   "metadata": {},
   "outputs": [],
   "source": [
    "ds = tfds.load('symmetric_solids', split='train')"
   ]
  },
  {
   "cell_type": "code",
   "execution_count": 4,
   "id": "12f777ca-4b21-483d-902c-a1e5eb42f4bf",
   "metadata": {},
   "outputs": [],
   "source": [
    "#tfds.builder('symmetric_solids').info\n",
    "#dataiterator.next()['image'][:,:,0].reshape((224,224,1)).shape\n",
    "#dataiterator.next()['image'].reshape((224,224,1))\n",
    "\n",
    "def resize_image(large_image):\n",
    "    #large_image = large_image['image']\n",
    "    # large image is shape (224, 224, 3)\n",
    "    # small image is shape (56, 56, 3)\n",
    "    input_size = 224\n",
    "    output_size = 28\n",
    "    bin_size = input_size // output_size\n",
    "    small_image = large_image.reshape((output_size, bin_size, \n",
    "                                   output_size, bin_size, 3)).max(3).max(1)\n",
    "    return small_image\n",
    "    \n",
    "def make_mono(image, size=28):\n",
    "    return image[:,:,0].reshape((size, size, 1))\n",
    "    \n",
    "# Scale and return images only \n",
    "def scale_images(data): \n",
    "    image = data['image']\n",
    "    return image / 255\n",
    "\n",
    "def resize_scale_mono(data, size = 28):    \n",
    "    image = data['image']\n",
    "    image = tf.image.resize(image, (size, size))\n",
    "    image = image[:,:,0].reshape((size, size, 1))\n",
    "    image = image / 255.0\n",
    "    #print(image.shape)\n",
    "    return image\n",
    "\n",
    "#resize_image(dataiterator.next()['image']).shape"
   ]
  },
  {
   "cell_type": "code",
   "execution_count": 39,
   "id": "64263a09-fd28-4550-b737-4c502d07aac9",
   "metadata": {},
   "outputs": [
    {
     "data": {
      "image/png": "[encoded data removed]",
      "text/plain": [
       "<Figure size 2000x2000 with 4 Axes>"
      ]
     },
     "metadata": {},
     "output_type": "display_data"
    }
   ],
   "source": [
    "dataiterator = ds.as_numpy_iterator()\n",
    "# Setup the subplot formatting \n",
    "fig, ax = plt.subplots(ncols=4, figsize=(20, 20))\n",
    "# Loop four times and get images \n",
    "for idx in range(4): \n",
    "    # Grab an image and label\n",
    "    sample = dataiterator.next()\n",
    "    # Plot the image using a specific subplot \n",
    "    #ax[idx].imshow(np.squeeze(sample['image']))\n",
    "    # Plot a 8x downsized, monocolored\n",
    "    ax[idx].imshow(np.squeeze(make_mono(resize_image(sample['image']))), cmap='gray')\n",
    "    # Appending the image label as the plot title \n",
    "    #ax[idx].title.set_text(sample['label'])"
   ]
  },
  {
   "cell_type": "code",
   "execution_count": 41,
   "id": "1850d32f-4189-44d9-ad00-96f74ba5bab6",
   "metadata": {},
   "outputs": [],
   "source": [
    "# Reload the dataset \n",
    "ds = tfds.load('symmetric_solids', split='train')\n",
    "# Running the dataset through the scale_images preprocessing step\n",
    "#ds = ds.map(scale_images)\n",
    "ds = ds.map(resize_scale_mono)\n",
    "#ds = ds.map(make_mono)\n",
    "# Cache the dataset for that batch \n",
    "ds = ds.cache()\n",
    "# Shuffle it up \n",
    "ds = ds.shuffle(60000)\n",
    "# Batch into 128 images per sample\n",
    "ds = ds.batch(128)\n",
    "# Reduces the likelihood of bottlenecking \n",
    "ds = ds.prefetch(64)"
   ]
  },
  {
   "cell_type": "code",
   "execution_count": 42,
   "id": "1236ea1e-cc78-489e-860e-fba28df0a671",
   "metadata": {},
   "outputs": [
    {
     "data": {
      "text/plain": [
       "(128, 28, 28, 1)"
      ]
     },
     "execution_count": 42,
     "metadata": {},
     "output_type": "execute_result"
    }
   ],
   "source": [
    "ds.as_numpy_iterator().next().shape"
   ]
  },
  {
   "cell_type": "code",
   "execution_count": 5,
   "id": "140ff9a8-9322-47c8-bffd-e29f55289aad",
   "metadata": {},
   "outputs": [],
   "source": [
    "def build_generator(): \n",
    "    model = Sequential()\n",
    "    \n",
    "    # Takes in random values and reshapes it to 7x7x128\n",
    "    # Beginnings of a generated image\n",
    "    model.add(Dense(7*7*128, input_dim=128))\n",
    "    model.add(LeakyReLU(0.2))\n",
    "    model.add(Reshape((7,7,128)))\n",
    "    \n",
    "    # Upsampling block 1 \n",
    "    model.add(UpSampling2D())\n",
    "    model.add(Conv2D(128, 5, padding='same'))\n",
    "    model.add(LeakyReLU(0.2))\n",
    "    \n",
    "    # Upsampling block 2 \n",
    "    model.add(UpSampling2D())\n",
    "    model.add(Conv2D(128, 5, padding='same'))\n",
    "    model.add(LeakyReLU(0.2))\n",
    "    \n",
    "    # Convolutional block 1\n",
    "    model.add(Conv2D(128, 4, padding='same'))\n",
    "    model.add(LeakyReLU(0.2))\n",
    "    \n",
    "    # Convolutional block 2\n",
    "    model.add(Conv2D(128, 4, padding='same'))\n",
    "    model.add(LeakyReLU(0.2))\n",
    "    \n",
    "    # Conv layer to get to one channel\n",
    "    model.add(Conv2D(1, 4, padding='same', activation='sigmoid'))\n",
    "    \n",
    "    return model\n",
    "\n",
    "def build_discriminator(): \n",
    "    model = Sequential()\n",
    "    \n",
    "    # First Conv Block\n",
    "    model.add(Conv2D(32, 5, input_shape = (28,28,1)))\n",
    "    model.add(LeakyReLU(0.2))\n",
    "    model.add(Dropout(0.4))\n",
    "    \n",
    "    # Second Conv Block\n",
    "    model.add(Conv2D(64, 5))\n",
    "    model.add(LeakyReLU(0.2))\n",
    "    model.add(Dropout(0.4))\n",
    "    \n",
    "    # Third Conv Block\n",
    "    model.add(Conv2D(128, 5))\n",
    "    model.add(LeakyReLU(0.2))\n",
    "    model.add(Dropout(0.4))\n",
    "    \n",
    "    # Fourth Conv Block\n",
    "    model.add(Conv2D(256, 5))\n",
    "    model.add(LeakyReLU(0.2))\n",
    "    model.add(Dropout(0.4))\n",
    "    \n",
    "    # Flatten then pass to dense layer\n",
    "    model.add(Flatten())\n",
    "    model.add(Dropout(0.4))\n",
    "    model.add(Dense(1, activation='sigmoid'))\n",
    "    \n",
    "    return model "
   ]
  },
  {
   "cell_type": "code",
   "execution_count": 6,
   "id": "7f1fd0b7-ef58-4839-b524-b90d3255bfd1",
   "metadata": {},
   "outputs": [],
   "source": [
    "generator = build_generator()\n",
    "discriminator = build_discriminator()"
   ]
  },
  {
   "cell_type": "code",
   "execution_count": null,
   "id": "6a0e3154-5f22-4b6f-b393-279d785d7d24",
   "metadata": {},
   "outputs": [],
   "source": [
    "# Generate new solids\n",
    "img = generator.predict(np.random.randn(4,128,1))\n",
    "# Setup the subplot formatting \n",
    "fig, ax = plt.subplots(ncols=4, figsize=(20,20))\n",
    "# Loop four times and get images \n",
    "for idx, img1 in enumerate(img): \n",
    "    # Plot the image using a specific subplot \n",
    "    ax[idx].imshow(np.squeeze(img1))\n",
    "    # Appending the image label as the plot title \n",
    "    ax[idx].title.set_text(idx)"
   ]
  }
 ],
 "metadata": {
  "kernelspec": {
   "display_name": "Python 3 (ipykernel)",
   "language": "python",
   "name": "python3"
  },
  "language_info": {
   "codemirror_mode": {
    "name": "ipython",
    "version": 3
   },
   "file_extension": ".py",
   "mimetype": "text/x-python",
   "name": "python",
   "nbconvert_exporter": "python",
   "pygments_lexer": "ipython3",
   "version": "3.9.13"
  }
 },
 "nbformat": 4,
 "nbformat_minor": 5
}
